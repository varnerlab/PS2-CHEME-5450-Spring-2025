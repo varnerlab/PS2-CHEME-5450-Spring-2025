{
 "cells": [
  {
   "cell_type": "markdown",
   "id": "790f78be",
   "metadata": {},
   "source": [
    "# Problem Set 2 (PS2): Flux Balance Analysis of the Urea Cycle in HL-60 Cells\n",
    "In problem set 2 (PS2), we will explore the urea cycle in HL-60 cells using flux balance analysis. The [urea cycle](https://www.kegg.jp/pathway/hsa00220) is a crucial metabolic pathway that converts toxic ammonia into urea for excretion. While the urea cycle's role in [HL-60 cells, a human promyelocytic leukemia cell line](https://www.atcc.org/products/ccl-240?matchtype=b&network=g&device=c&adposition=&keyword=hl60%20cell%20line%20atcc&gad_source=1&gbraid=0AAAAADR6fpoOXsp8U8fXLd_E6sLTcwv24&gclid=CjwKCAiA5eC9BhAuEiwA3CKwQm0C1oE5_JjTpJ24VnTjZUZQVLivpPxmufDo7HdH5v3hN1XKnEf3ExoCvhwQAvD_BwE), is not directly established, these cells exhibit alterations in protein levels and proliferation rates when exposed to various compounds, which may indirectly affect nitrogen metabolism and related pathways.\n",
    "\n",
    "### Tasks\n",
    "In PS2, we'll construct [a simplified model of the urea cycle](https://github.com/varnerlab/CHEME-5450-Lectures-Spring-2025/blob/main/lectures/week-5/L5c/docs/figs/Fig-Urea-cycle-Schematic.pdf), determine the reversibility of the reactions, estimates for the flux bounds, and then compute the optimal flux distribution that maximizes Urea production. Start with the setup section, and work your way through the notebook. The `TODO` statements/comments indicate that you need to do something.\n",
    "\n",
    "### References\n",
    "1. [Al-Otaibi NAS, Cassoli JS, Martins-de-Souza D, Slater NKH, Rahmoune H. Human leukemia cells (HL-60) proteomic and biological signatures underpinning cryo-damage are differentially modulated by novel cryo-additives. Gigascience. 2019 Mar 1;8(3):giy155. doi: 10.1093/gigascience/giy155. PMID: 30535373; PMCID: PMC6394207.](https://pmc.ncbi.nlm.nih.gov/articles/PMC6394207/)\n",
    "2. [Figarola JL, Weng Y, Lincoln C, Horne D, Rahbar S. Novel dichlorophenyl urea compounds inhibit proliferation of human leukemia HL-60 cells by inducing cell cycle arrest, differentiation and apoptosis. Invest New Drugs. 2012 Aug;30(4):1413-25. doi: 10.1007/s10637-011-9711-8. Epub 2011 Jul 5. PMID: 21728022.](https://pubmed.ncbi.nlm.nih.gov/21728022/)\n",
    "3. [Caldwell RW, Rodriguez PC, Toque HA, Narayanan SP, Caldwell RB. Arginase: A Multifaceted Enzyme Important in Health and Disease. Physiol Rev. 2018 Apr 1;98(2):641-665. doi: 10.1152/physrev.00037.2016. PMID: 29412048; PMCID: PMC5966718.](https://pmc.ncbi.nlm.nih.gov/articles/PMC5966718/)"
   ]
  },
  {
   "cell_type": "markdown",
   "id": "310d4171",
   "metadata": {},
   "source": [
    "## Setup, Data, and Prerequisites\n",
    "We set up the computational environment by including the `Include.jl` file, loading any needed resources, such as sample datasets, and setting up any required constants. \n",
    "* The `Include.jl` file also loads external packages, various functions that we will use in the exercise, and custom types to model the components of our problem. It checks for a `Manifest.toml` file; if it finds one, packages are loaded. Other packages are downloaded and then loaded."
   ]
  },
  {
   "cell_type": "code",
   "execution_count": 3,
   "id": "a1017092",
   "metadata": {},
   "outputs": [],
   "source": [
    "include(\"Include.jl\");"
   ]
  },
  {
   "cell_type": "markdown",
   "id": "c81125f7",
   "metadata": {},
   "source": [
    "__Build the model__. To store all the problem data, we created [the `MyPrimalFluxBalanceAnalysisCalculationModel` type](src/Types.jl). Let's build one of these objects for our problem and store it in the `model::MyPrimalFluxBalanceAnalysisCalculationModel` variable. We also return the `rd::Dict{String, String}` dictionary, which maps the reaction name field (key) to the reaction string (value).\n",
    "* __Builder (or factory) pattern__: For all custom types that we make, we'll use something like [the builder software pattern](https://en.wikipedia.org/wiki/Builder_pattern) to construct and initialize these objects. The calling syntax will be the same for all types: [a `build(...)` method](src/Factory.jl) will take the kind of thing we want to build in the first argument, and the data needed to make that type as [a `NamedTuple` instance](https://docs.julialang.org/en/v1/base/base/#Core.NamedTuple) in the second argument.\n",
    "* __What's the story with the `let` block__? A [let block](https://docs.julialang.org/en/v1/manual/variables-and-scoping/#Let-Blocks) creates a new hard scope and new variable bindings each time they run. Thus, they act like a private scratch space, where data comes in (is captured by the block), but only what we want to be exposed comes out. "
   ]
  },
  {
   "cell_type": "code",
   "execution_count": 5,
   "id": "160d0624",
   "metadata": {},
   "outputs": [],
   "source": [
    "model, rd = let\n",
    "\n",
    "    # first, load the reaction file - and process it\n",
    "    listofreactions = read_reaction_file(joinpath(_PATH_TO_DATA, \"Network.net\")); # load the reactions from the VFF reaction file\n",
    "    S, species, reactions, rd = build_stoichiometric_matrix(listofreactions); # Builds the stochiometric matrix, species list, and the reactions list\n",
    "    boundsarray = build_default_bounds_array(listofreactions); # Builds a default bounds model using the flat file flags\n",
    "\n",
    "    # build the FBA model -\n",
    "    model = build(MyPrimalFluxBalanceAnalysisCalculationModel, (\n",
    "        S = S, # stoichiometric matrix\n",
    "        fluxbounds = boundsarray, # these are the *default* bounds, we'll need to update with new info if we have it\n",
    "        species = species, # list of species. The rows of S are in this order\n",
    "        reactions = reactions, # list of reactions. The cols of S are in this order\n",
    "        objective = length(reactions) |> R -> zeros(R), # this is empty, we'll need to set this\n",
    "    ));\n",
    "\n",
    "    # return -\n",
    "    model, rd\n",
    "end;"
   ]
  },
  {
   "cell_type": "markdown",
   "id": "4421eef6",
   "metadata": {},
   "source": [
    "## Update the flux bounds\n",
    "The flux bounds are important constraints in flux balance analysis calculations and the convex decomposition of the stoichiometric array. Beyond their role in the flux estimation problem, the flux bounds are _integrative_, i.e., these constraints integrate many types of genetic and biochemical information into the problem. A general model for these bounds is given by:\n",
    "$$\n",
    "\\begin{align*}\n",
    "-\\delta_{j}\\underbrace{\\left[{V_{max,j}^{\\circ}}\\left(\\frac{e}{e^{\\circ}}\\right)\\theta_{j}\\left(\\dots\\right){f_{j}\\left(\\dots\\right)}\\right]}_{\\text{reverse: other functions or parameters?}}\\leq\\hat{v}_{j}\\leq{V_{max,j}^{\\circ}}\\left(\\frac{e}{e^{\\circ}}\\right)\\theta_{j}\\left(\\dots\\right){f_{j}\\left(\\dots\\right)}\n",
    "\\end{align*}\n",
    "$$\n",
    "where $V_{max,j}^{\\circ}$ denotes the maximum reaction velocity (units: `flux`) computed at some _characteristic enzyme abundance_. Thus, the maximum reaction velocity is given by:\n",
    "$$\n",
    "V_{max,j}^{\\circ} \\equiv k_{cat,j}^{\\circ}e^{\\circ}\n",
    "$$\n",
    "where $k_{cat,j}$ is the catalytic constant or turnover number for the enzyme (units: `1/time`) and $e^{\\circ}$ is a characteristic enzyme abundance (units: `concentration`). The term $\\left(e/e^{\\circ}\\right)$ is a correction to account for the _actual_ enzyme abundance catalyzing the reaction (units: `dimensionless`). The $\\theta_{j}\\left(\\dots\\right)\\in\\left[0,1\\right]$ is the current fraction of maximial enzyme activity of enzyme $e$ in reaction $j$. The activity model $\\theta_{j}\\left(\\dots\\right)$ describes [allosteric effects](https://en.wikipedia.org/wiki/Allosteric_regulation) on the reaction rate, and is a function of the regulatory and the chemical state of the system, the concentration of substrates, products, and cofactors (units: `dimensionless`).\n",
    "Finally, the $f_{j}\\left(\\dots\\right)$ is a function describing the substrate (reactants) dependence of the reaction rate $j$ (units: `dimensionless`). \n",
    "\n",
    "### PS2\n",
    "In problem set 2, we use a simplified bounds model to estimate the flux bounds.\n",
    "We assume that $(e/e^{\\circ})\\sim{1}$, there are no allosteric inputs $\\theta_{j}\\left(\\dots\\right)\\sim{1}$, and the substrates are saturating $f_{j}\\left(\\dots\\right)\\sim{1}$. \n",
    "Then, the flux bounds are given by:\n",
    "$$\n",
    "\\begin{align*}\n",
    "-\\delta_{j}V_{max,j}^{\\circ}\\leq{\\hat{v}_{j}}\\leq{V_{max,j}^{\\circ}}\n",
    "\\end{align*}\n",
    "$$\n",
    "It is easy to see that the flux bounds are a function of the maximum reaction velocity, the catalytic constant or turnover number, and our assumed value of a characteristic enzyme abundance."
   ]
  },
  {
   "cell_type": "markdown",
   "id": "ce06880f",
   "metadata": {},
   "source": [
    "### Estimate the reversibility parameters $\\delta_{j}$ for reaction $j$\n",
    "First, let's estimate the reversibility parameter $\\delta_{j}$ for each of the `5` enzyme-catalyzed reactions in our model of the Urea cycle using [eQuilibrator](https://equilibrator.weizmann.ac.il).\n",
    "* [Beber ME, Gollub MG, Mozaffari D, Shebek KM, Flamholz AI, Milo R, Noor E. eQuilibrator 3.0: a database solution for thermodynamic constant estimation. Nucleic Acids Res. 2022 Jan 7;50(D1): D603-D609. doi: 10.1093/nar/gkab1106. PMID: 34850162; PMCID: PMC8728285.](https://pubmed.ncbi.nlm.nih.gov/34850162/)\n",
    "\n",
    "Store the results of this analysis in the `reversibility_parameter_dictionary::Dict{String, Bool}` dictionary, which maps the reaction name field (key) to the estimated reversibility parameter (value). Use a $\\Delta\\bar{{G}}$ threshold value (hyperparameter) of `-10.0 kJ/mol` to determine the reversibility of the reactions. \n",
    "\n",
    "`TODO`: Fill in the missing elements in the code block below to complete this task; when using [eQuilibrator](https://equilibrator.weizmann.ac.il), use the EC prefix, i.e., `EC 6.3.4.5` and superscript `m` value:"
   ]
  },
  {
   "cell_type": "code",
   "execution_count": 8,
   "id": "279a2b8f",
   "metadata": {},
   "outputs": [],
   "source": [
    "reversibility_parameter_dictionary = let\n",
    "\n",
    "    # initialize -\n",
    "    ΔḠ = -10.0; # threshold value, units: kJ/mol -\n",
    "    names = model.reactions; # get an array of the names of the reactions (includes exchange)\n",
    "    reversibility_parameter_dictionary = Dict{String, Int}();\n",
    "\n",
    "    # TODO: build a ΔG array for the reactions in the model\n",
    "    ΔG = [\n",
    "        0.0 ; # 1 v₁ EC 6.3.4.5 Update me!\n",
    "        0.0 ; # 2 v₂ EC 4.3.2.1 Update me!\n",
    "        0.0 ; # 3 v₃ EC 3.5.3.1 Update me!\n",
    "        0.0 ; # 4 v₄ EC 2.1.3.3 Update me!\n",
    "        0.0 ; # 5 v₅ EC 1.15.13.39 Update me!\n",
    "    ];\n",
    "\n",
    "    # compute loop -\n",
    "    for i ∈ eachindex(names)\n",
    "        name = names[i]; # get the reaction name for reaction i -\n",
    "\n",
    "        # check: do we have an exchange flux? If so: skip\n",
    "        if (contains(name, \"b\") == true)\n",
    "            continue;\n",
    "        end\n",
    "        \n",
    "        ΔGᵢ = ΔG[i]; # get the ΔG value for reaction i -\n",
    "        \n",
    "        # compute\n",
    "        δᵢ = sign(ΔGᵢ -  ΔḠ) == 1 ? 0 : 1 # fancy. Check out the docs what we are doing\n",
    "\n",
    "        # store -\n",
    "        reversibility_parameter_dictionary[name] = δᵢ; # stores the reversibility parameter with key name\n",
    "    end\n",
    "\n",
    "    \n",
    "    # TODO: Uncomment the line below to return the dictionary\n",
    "    # reversibility_parameter_dictionary;\n",
    "end;"
   ]
  },
  {
   "cell_type": "code",
   "execution_count": 9,
   "id": "394088d3-7a5d-4109-bfd7-9884253794d9",
   "metadata": {},
   "outputs": [],
   "source": [
    "did_I_update_the_DG_array = false; # TODO: update this flag to {true | false} if you updated the ΔG array"
   ]
  },
  {
   "cell_type": "markdown",
   "id": "72f0bfd3",
   "metadata": {},
   "source": [
    "### Estimate the maximum reaction velocity $V_{max,j}^{\\circ}$ for reaction $j$\n",
    "Next, we'll estimate the maximum reaction velocity $V_{max,j}^{\\circ}$ for each of the `5` enzyme-catalyzed reactions in our model of the Urea cycle using [BRENDA](https://www.brenda-enzymes.org/):\n",
    "* [Antje Chang et al., BRENDA, the ELIXIR core data resource in 2021: new developments and updates, Nucleic Acids Research, Volume 49, Issue D1, 8 January 2021, Pages D498–D508, https://doi.org/10.1093/nar/gkaa1025](https://academic.oup.com/nar/article/49/D1/D498/5992283)\n",
    "\n",
    "Assume the characteristic enzyme abundance $e^{\\circ}\\simeq$ 0.01 `μmol/gDW` for all reactions. For missing turnover numbers, use a characteristic value of $k_{cat,j}^{\\circ}\\simeq$ 10 `1/s`. Store the results of this analysis in the `maximum_reaction_velocity_dictionary::Dict{String, Float64}` dictionary, which maps the reaction name field (key) to the estimated maximum reaction velocity (value). \n",
    "\n",
    "`TODO`: Fill in the missing elements in the code block below to complete this task:"
   ]
  },
  {
   "cell_type": "code",
   "execution_count": 11,
   "id": "1734e86e",
   "metadata": {},
   "outputs": [],
   "source": [
    "maximum_reaction_velocity_dictionary = let\n",
    "\n",
    "    # initialize -\n",
    "    eₒ = 0.01; # characteristic enzyme abundance units: mmol/gDW\n",
    "    kₒ = 10.0; # characteristic turnover rate units: 1/s (use this if we don't have a specific value from BRENDA)\n",
    "    names = model.reactions; # get an array of the names of the reactions (includes exchange)\n",
    "    maximum_reaction_velocity_dictionary = Dict{String, Float64}();\n",
    "\n",
    "    # TODO: **Update** the kcat array for the reactions in the model with values from BRENDA\n",
    "    kcat = [\n",
    "        kₒ ; # 1 v₁ EC 6.3.4.5 Update me!\n",
    "        kₒ ; # 2 v₂ EC 4.3.2.1 Update me!\n",
    "        kₒ ; # 3 v₃ EC 3.5.3.1 Update me!\n",
    "        kₒ ; # 4 v₄ EC 2.1.3.3 Update me!\n",
    "        kₒ ; # 5 v₅ EC 1.15.13.39 Update me!\n",
    "    ];\n",
    "\n",
    "    # compute loop -\n",
    "    for i ∈ eachindex(names)\n",
    "        name = names[i]; # get the reaction name for reaction i -\n",
    "\n",
    "        # check: do we have an exchange flux? If so: skip\n",
    "        if (contains(name, \"b\") == true)\n",
    "            continue;\n",
    "        end\n",
    "        \n",
    "        # compute the VMaxᵢ -\n",
    "        VMaxᵢ = kcat[i]*eₒ;\n",
    "\n",
    "        # store -\n",
    "        maximum_reaction_velocity_dictionary[name] = VMaxᵢ; # stores the VMax with key name\n",
    "    end\n",
    "    \n",
    "    # TODO: Uncomment the line below to return the dictionary\n",
    "    # maximum_reaction_velocity_dictionary;\n",
    "end;"
   ]
  },
  {
   "cell_type": "code",
   "execution_count": 12,
   "id": "fe66072d-ce3e-4546-b9a3-61f127712cc8",
   "metadata": {},
   "outputs": [],
   "source": [
    "did_I_update_the_kcat_array = false; # TODO: update this flag to {true | false} if you updated the kcat array"
   ]
  },
  {
   "cell_type": "markdown",
   "id": "9c06d2c5",
   "metadata": {},
   "source": [
    "### Update the flux bounds array\n",
    "Now that we have the reversibility parameters and the maximum reaction velocities, we can update the flux bounds for each reaction in our model of the Urea cycle. \n",
    "\n",
    "`TODO`: Fill in the missing elements in the code block below to complete this task:"
   ]
  },
  {
   "cell_type": "code",
   "execution_count": 14,
   "id": "a4d1c813",
   "metadata": {},
   "outputs": [
    {
     "ename": "LoadError",
     "evalue": "MethodError: no method matching getindex(::Nothing, ::String)\nThe function `getindex` exists, but no method is defined for this combination of argument types.",
     "output_type": "error",
     "traceback": [
      "MethodError: no method matching getindex(::Nothing, ::String)\nThe function `getindex` exists, but no method is defined for this combination of argument types.",
      "",
      "Stacktrace:",
      " [1] top-level scope",
      "   @ ./In[14]:13"
     ]
    }
   ],
   "source": [
    "fluxbounds = let\n",
    "    \n",
    "    fluxbounds = model.fluxbounds;\n",
    "    names = model.reactions;\n",
    "    for i ∈ eachindex(names)\n",
    "        name = names[i]; # get the reaction name for reaction i -\n",
    "    \n",
    "        # check: do we have an exchange flux? If so: skip\n",
    "        if (contains(name, \"b\") == true)\n",
    "            continue;\n",
    "        end\n",
    "        \n",
    "        VMax = maximum_reaction_velocity_dictionary[name]; # What is the maximum velocity for this reaction?\n",
    "        δᵢ = reversibility_parameter_dictionary[name]; # what is the reversibility parameter for this reaction?\n",
    "    \n",
    "        # TODO: Uncomment the lines below to update the bounds\n",
    "        # fluxbounds[i,1] = δᵢ*VMax; # lower bound\n",
    "        # fluxbounds[i,2] = VMax; # upper bound\n",
    "    end\n",
    "\n",
    "    # TODO: Uncomment the line below to return the bounds\n",
    "    # fluxbounds;\n",
    "end;"
   ]
  },
  {
   "cell_type": "code",
   "execution_count": 15,
   "id": "5f586936-908c-4b82-ac20-4b49a57e9572",
   "metadata": {},
   "outputs": [
    {
     "ename": "LoadError",
     "evalue": "UndefVarError: `fluxbounds` not defined in `Main`\nSuggestion: check for spelling errors or missing imports.",
     "output_type": "error",
     "traceback": [
      "UndefVarError: `fluxbounds` not defined in `Main`\nSuggestion: check for spelling errors or missing imports.",
      "",
      "Stacktrace:",
      " [1] top-level scope",
      "   @ In[15]:1"
     ]
    }
   ],
   "source": [
    "model.fluxbounds = fluxbounds;"
   ]
  },
  {
   "cell_type": "markdown",
   "id": "5268cd52",
   "metadata": {},
   "source": [
    "### Update the objective function\n",
    "Finally, let's update the objective function of our model. By default, all the elements of the objective function are set to `0.0`. Update the objective function to _maximize_ the export of  `Urea` from the system. \n",
    "\n",
    "`TODO`: Fill in the missing elements in the code block below to complete this task:"
   ]
  },
  {
   "cell_type": "code",
   "execution_count": 17,
   "id": "2c7096c9",
   "metadata": {},
   "outputs": [
    {
     "ename": "LoadError",
     "evalue": "ArgumentError: invalid index: nothing of type Nothing",
     "output_type": "error",
     "traceback": [
      "ArgumentError: invalid index: nothing of type Nothing",
      "",
      "Stacktrace:",
      " [1] to_index(i::Nothing)",
      "   @ Base ./indices.jl:315",
      " [2] to_index(A::Vector{Float64}, i::Nothing)",
      "   @ Base ./indices.jl:292",
      " [3] to_indices",
      "   @ ./indices.jl:368 [inlined]",
      " [4] to_indices",
      "   @ ./indices.jl:360 [inlined]",
      " [5] setindex!(A::Vector{Float64}, v::Int64, I::Nothing)",
      "   @ Base ./abstractarray.jl:1413",
      " [6] (::var\"#21#23\")(i::Nothing)",
      "   @ Main ./In[17]:3",
      " [7] |>(x::Nothing, f::var\"#21#23\")",
      "   @ Base ./operators.jl:926",
      " [8] top-level scope",
      "   @ In[17]:2"
     ]
    }
   ],
   "source": [
    "objective = model.objective;\n",
    "reaction_to_maximize = nothing; # TODO: specify the reaction to maximize (use the reaction name)\n",
    "findfirst(x-> x==reaction_to_maximize, model.reactions) |> i -> objective[i] = -1; # why negative 1? because we're maximizing the flux through the reaction"
   ]
  },
  {
   "cell_type": "markdown",
   "id": "39f9508d",
   "metadata": {},
   "source": [
    "## Compute the optimal flux distribution\n",
    "Let's compute the optimal metabolic distribution $\\left\\{\\hat{v}_{i} \\mid i = 1,2,\\dots,\\mathcal{R}\\right\\}$ by solving the [linear programming problem](). We solve the optimization problem by passing the `model::MyPrimalFluxBalanceAnalysisCalculationModel` to [the `solve(...)` method](src/Compute.jl). This method returns a `solution::Dict{String, Any}` dictionary containing information about the solution.\n",
    "* __Why the [try-catch environment](https://docs.julialang.org/en/v1/base/base/#try)__? The [solve(...) method](src/Compute.jl) has an [@assert statement](https://docs.julialang.org/en/v1/base/base/#Base.@assert) to check if the calculation has converged. Thus, the solve method will [throw](https://docs.julialang.org/en/v1/base/base/#Core.throw) an [AssertionError](https://docs.julialang.org/en/v1/base/base/#Core.AssertionError) if the optimization problem fails to converge. To gracefully handle this case, we use a [try-catch construct](https://docs.julialang.org/en/v1/base/base/#try). See the [is_solved_and_feasible method from the JuMP package](https://jump.dev/JuMP.jl/stable/api/JuMP/#JuMP.is_solved_and_feasible) for more information."
   ]
  },
  {
   "cell_type": "code",
   "execution_count": 19,
   "id": "26cf7b71",
   "metadata": {
    "jupyter": {
     "source_hidden": true
    }
   },
   "outputs": [],
   "source": [
    "solution = let\n",
    "    \n",
    "    solution = nothing; # initialize nothing for the solution\n",
    "    try\n",
    "        solution = solve(model); # call the solve method with our problem model -\n",
    "    catch error\n",
    "        println(\"error: $(error)\"); # Oooooops! Looks like we have a *major malfunction*, problem didn't solve\n",
    "    end\n",
    "\n",
    "    # return solution\n",
    "    solution\n",
    "end;"
   ]
  },
  {
   "cell_type": "markdown",
   "id": "ee05489a",
   "metadata": {},
   "source": [
    "### Flux table\n",
    "`Unhide` the code block below to see how we constructed the flux table using [the `pretty_tables(...)` method exported by the `PrettyTables.jl` package](https://github.com/ronisbr/PrettyTables.jl).\n",
    "* __Summary__: Each row of the flux table holds information about a reaction in the model. The first column has the reaction name, the second column has the estimated optimal flux value (solution of the FBA problem), the third and fourth columns hold the lower (LB) and upper (UB) for the estimated flux, and the last column has the reaction string for the flux."
   ]
  },
  {
   "cell_type": "code",
   "execution_count": 21,
   "id": "6afdc867",
   "metadata": {
    "jupyter": {
     "source_hidden": true
    }
   },
   "outputs": [
    {
     "name": "stdout",
     "output_type": "stream",
     "text": [
      "=========== =============== =============== =============== =================================================================================================================\n",
      " \u001b[1m Reaction \u001b[0m \u001b[1m v̂ᵢ            \u001b[0m \u001b[1m v̂ᵢ LB         \u001b[0m \u001b[1m v̂ᵢ UB         \u001b[0m \u001b[1m Reaction                                                                                                       \u001b[0m\n",
      " \u001b[90m          \u001b[0m \u001b[90m μmol/gDW-time \u001b[0m \u001b[90m μmol/gDW-time \u001b[0m \u001b[90m μmol/gDW-time \u001b[0m \u001b[90m N/A                                                                                                            \u001b[0m\n",
      "=========== =============== =============== =============== =================================================================================================================\n",
      "  v1         1000.0          0.0             1000.0          M_ATP_c+M_L-Citrulline_c+M_L-Aspartate_c = M_AMP_c+M_Diphosphate_c+M_N-(L-Arginino)succinate_c\n",
      "  v2         1000.0          0.0             1000.0          M_N-(L-Arginino)succinate_c = M_Fumarate_c+M_L-Arginine_c\n",
      "  v3         500.0           0.0             1000.0          M_L-Arginine_c+M_H2O_c = M_L-Ornithine_c+M_Urea_c\n",
      "  v4         500.0           0.0             1000.0          M_Carbamoyl_phosphate_c+M_L-Ornithine_c = M_Orthophosphate_c+M_L-Citrulline_c\n",
      "  v5         250.0           -1000.0         1000.0          2*M_L-Arginine_c+4*M_Oxygen_c+3*M_NADPH_c+3*M_H_c = 2*M_Nitric_oxide_c+2*M_L-Citrulline_c+3*M_NADP_c+4*M_H2O_c\n",
      "  b1         500.0           -1000.0         1000.0          [] = M_Carbamoyl_phosphate_c\n",
      "  b2         1000.0          -1000.0         1000.0          [] = M_L-Aspartate_c\n",
      "  b3         -1000.0         -1000.0         1000.0          [] = M_Fumarate_c\n",
      "  b4         -500.0          -1000.0         1000.0          [] = M_Urea_c\n",
      "  b5         1000.0          -1000.0         1000.0          [] = M_ATP_c\n",
      "  b6         -1000.0         -1000.0         1000.0          [] = M_AMP_c\n",
      "  b7         -1000.0         -1000.0         1000.0          [] = M_Diphosphate_c\n",
      "  b8         -500.0          -1000.0         1000.0          [] = M_Orthophosphate_c\n",
      "  b9         1000.0          -1000.0         1000.0          [] = M_Oxygen_c\n",
      "  b10        750.0           -1000.0         1000.0          [] = M_NADPH_c\n",
      "  b11        750.0           -1000.0         1000.0          [] = M_H_c\n",
      "  b12        -500.0          -1000.0         1000.0          [] = M_Nitric_oxide_c\n",
      "  b13        -750.0          -1000.0         1000.0          [] = M_NADP_c\n",
      "  b14        -500.0          -1000.0         1000.0          [] = M_H2O_c\n",
      "=========== =============== =============== =============== =================================================================================================================\n"
     ]
    }
   ],
   "source": [
    "let\n",
    "\n",
    "    # setup -\n",
    "    S = model.S;\n",
    "    flux_bounds_array = model.fluxbounds;\n",
    "    number_of_reactions = size(S,2); # columns\n",
    "\tflux_table = Array{Any,2}(undef,number_of_reactions,5)\n",
    "    flux = solution[\"argmax\"];\n",
    "    \n",
    "    # populate the state table -\n",
    "\tfor reaction_index = 1:number_of_reactions\n",
    "\t\tflux_table[reaction_index,1] = model.reactions[reaction_index]\n",
    "\t\tflux_table[reaction_index,2] = flux[reaction_index]\n",
    "\t\tflux_table[reaction_index,3] = flux_bounds_array[reaction_index,1]\n",
    "\t\tflux_table[reaction_index,4] = flux_bounds_array[reaction_index,2]\n",
    "        flux_table[reaction_index,5] = model.reactions[reaction_index] |> key-> rd[key]\n",
    "\tend\n",
    "\n",
    "    # header row -\n",
    "\tflux_table_header_row = ([\"Reaction\",\"v̂ᵢ\", \"v̂ᵢ LB\", \"v̂ᵢ UB\", \"Reaction\"],[\"\",\"μmol/gDW-time\", \"μmol/gDW-time\", \"μmol/gDW-time\", \"N/A\"]);\n",
    "\t\t\n",
    "\t# write the table -\n",
    "\tpretty_table(flux_table; header=flux_table_header_row, tf=tf_simple, alignment = :l)\n",
    "end"
   ]
  },
  {
   "cell_type": "code",
   "execution_count": 22,
   "id": "4aeac3b7",
   "metadata": {},
   "outputs": [],
   "source": [
    "do_I_see_the_flux_table = false; # TODO: update this flag to {true | false} if the flux table is visible"
   ]
  },
  {
   "cell_type": "markdown",
   "id": "765be7fb-f4fe-44b3-be08-3a950dfaea3f",
   "metadata": {},
   "source": [
    "## Discussion\n",
    "Use you code and simulation results to answer the following questions."
   ]
  },
  {
   "cell_type": "markdown",
   "id": "7f86ff65-da4e-4fa1-b47b-ae42c10e7510",
   "metadata": {},
   "source": [
    "__DQ1__: What is the maximum rate of Urea export from the system using your updated model parameters, and what species are exported or imported into the system to support this production level?"
   ]
  },
  {
   "cell_type": "code",
   "execution_count": 25,
   "id": "6de4eb3d-9381-4be2-9b93-04241d4424fd",
   "metadata": {},
   "outputs": [],
   "source": [
    "# Put your answer to DQ1 (either as a commented code cell, or as a markdown cell)"
   ]
  },
  {
   "cell_type": "code",
   "execution_count": 26,
   "id": "7528cd75-353f-4c4f-87c1-32be10d36828",
   "metadata": {},
   "outputs": [],
   "source": [
    "did_I_answer_DQ1 = false; # update to true if answered DQ1 {true | false}"
   ]
  },
  {
   "cell_type": "markdown",
   "id": "0c3ee90f-9415-4ab3-b56b-756140043362",
   "metadata": {},
   "source": [
    "__DQ2__: Given your updated model parameters, is there a rate-limiting step controlling the rate of Urea production?"
   ]
  },
  {
   "cell_type": "code",
   "execution_count": 28,
   "id": "a722ae65-8c99-4b19-b302-df2863882b55",
   "metadata": {},
   "outputs": [],
   "source": [
    "# Put your answer to DQ2 (either as a commented code cell, or as a markdown cell)"
   ]
  },
  {
   "cell_type": "code",
   "execution_count": 29,
   "id": "afcb6c5a-9616-4297-a146-5a1fd8f846c8",
   "metadata": {},
   "outputs": [],
   "source": [
    "did_I_answer_DQ2 = false; # update to true if answered DQ2 {true | false}"
   ]
  },
  {
   "cell_type": "markdown",
   "id": "4d962122-4682-479b-b3ad-688836c97fc5",
   "metadata": {},
   "source": [
    "__DQ3__: Hypothetically, suppose the teaching team measured the rate of oxygen consumption for the Urea cycle in isolation and found this number to be non-zero. What does that say about the reactions occurring inside the Urea cycle system?"
   ]
  },
  {
   "cell_type": "code",
   "execution_count": 31,
   "id": "a7eeb0cb-f21f-4c3e-8a5d-06e891240259",
   "metadata": {},
   "outputs": [],
   "source": [
    "# Put your answer to DQ3 (either as a commented code cell, or as a markdown cell)"
   ]
  },
  {
   "cell_type": "code",
   "execution_count": 32,
   "id": "83f78cbf-3b3c-4b06-9eba-55dbf11c30de",
   "metadata": {},
   "outputs": [],
   "source": [
    "did_I_answer_DQ3 = false; # update to true if answered DQ3 {true | false}"
   ]
  },
  {
   "cell_type": "markdown",
   "id": "626fcc69",
   "metadata": {},
   "source": [
    "## Tests\n",
    "`Unhide` the code block below (if you are curious) about how we implemented the tests and what we are testing. In these tests, we check values in your notebook and give feedback on which items are correct, missing etc."
   ]
  },
  {
   "cell_type": "code",
   "execution_count": 34,
   "id": "ef1de70f",
   "metadata": {},
   "outputs": [
    {
     "name": "stdout",
     "output_type": "stream",
     "text": [
      "Setup: \u001b[91m\u001b[1mTest Failed\u001b[22m\u001b[39m at \u001b[39m\u001b[1mIn[34]:8\u001b[22m\n",
      "  Expression: isnothing(reversibility_parameter_dictionary) == false\n",
      "   Evaluated: true == false\n",
      "\n",
      "Stacktrace:\n",
      " [1] \u001b[0m\u001b[1mmacro expansion\u001b[22m\n",
      "\u001b[90m   @\u001b[39m \u001b[90m~/.julia/juliaup/julia-1.11.3+0.aarch64.apple.darwin14/share/julia/stdlib/v1.11/Test/src/\u001b[39m\u001b[90m\u001b[4mTest.jl:679\u001b[24m\u001b[39m\u001b[90m [inlined]\u001b[39m\n",
      " [2] \u001b[0m\u001b[1mmacro expansion\u001b[22m\n",
      "\u001b[90m   @\u001b[39m \u001b[90m\u001b[4mIn[34]:8\u001b[24m\u001b[39m\u001b[90m [inlined]\u001b[39m\n",
      " [3] \u001b[0m\u001b[1mmacro expansion\u001b[22m\n",
      "\u001b[90m   @\u001b[39m \u001b[90m~/.julia/juliaup/julia-1.11.3+0.aarch64.apple.darwin14/share/julia/stdlib/v1.11/Test/src/\u001b[39m\u001b[90m\u001b[4mTest.jl:1704\u001b[24m\u001b[39m\u001b[90m [inlined]\u001b[39m\n",
      " [4] \u001b[0m\u001b[1mmacro expansion\u001b[22m\n",
      "\u001b[90m   @\u001b[39m \u001b[90m\u001b[4mIn[34]:5\u001b[24m\u001b[39m\u001b[90m [inlined]\u001b[39m\n",
      " [5] \u001b[0m\u001b[1mmacro expansion\u001b[22m\n",
      "\u001b[90m   @\u001b[39m \u001b[90m~/.julia/juliaup/julia-1.11.3+0.aarch64.apple.darwin14/share/julia/stdlib/v1.11/Test/src/\u001b[39m\u001b[90m\u001b[4mTest.jl:1704\u001b[24m\u001b[39m\u001b[90m [inlined]\u001b[39m\n",
      " [6] top-level scope\n",
      "\u001b[90m   @\u001b[39m \u001b[90m\u001b[4mIn[34]:4\u001b[24m\u001b[39m\n",
      "Setup: \u001b[91m\u001b[1mTest Failed\u001b[22m\u001b[39m at \u001b[39m\u001b[1mIn[34]:9\u001b[22m\n",
      "  Expression: isnothing(maximum_reaction_velocity_dictionary) == false\n",
      "   Evaluated: true == false\n",
      "\n",
      "Stacktrace:\n",
      " [1] \u001b[0m\u001b[1mmacro expansion\u001b[22m\n",
      "\u001b[90m   @\u001b[39m \u001b[90m~/.julia/juliaup/julia-1.11.3+0.aarch64.apple.darwin14/share/julia/stdlib/v1.11/Test/src/\u001b[39m\u001b[90m\u001b[4mTest.jl:679\u001b[24m\u001b[39m\u001b[90m [inlined]\u001b[39m\n",
      " [2] \u001b[0m\u001b[1mmacro expansion\u001b[22m\n",
      "\u001b[90m   @\u001b[39m \u001b[90m\u001b[4mIn[34]:9\u001b[24m\u001b[39m\u001b[90m [inlined]\u001b[39m\n",
      " [3] \u001b[0m\u001b[1mmacro expansion\u001b[22m\n",
      "\u001b[90m   @\u001b[39m \u001b[90m~/.julia/juliaup/julia-1.11.3+0.aarch64.apple.darwin14/share/julia/stdlib/v1.11/Test/src/\u001b[39m\u001b[90m\u001b[4mTest.jl:1704\u001b[24m\u001b[39m\u001b[90m [inlined]\u001b[39m\n",
      " [4] \u001b[0m\u001b[1mmacro expansion\u001b[22m\n",
      "\u001b[90m   @\u001b[39m \u001b[90m\u001b[4mIn[34]:5\u001b[24m\u001b[39m\u001b[90m [inlined]\u001b[39m\n",
      " [5] \u001b[0m\u001b[1mmacro expansion\u001b[22m\n",
      "\u001b[90m   @\u001b[39m \u001b[90m~/.julia/juliaup/julia-1.11.3+0.aarch64.apple.darwin14/share/julia/stdlib/v1.11/Test/src/\u001b[39m\u001b[90m\u001b[4mTest.jl:1704\u001b[24m\u001b[39m\u001b[90m [inlined]\u001b[39m\n",
      " [6] top-level scope\n",
      "\u001b[90m   @\u001b[39m \u001b[90m\u001b[4mIn[34]:4\u001b[24m\u001b[39m\n",
      "Setup: \u001b[91m\u001b[1mError During Test\u001b[22m\u001b[39m at \u001b[39m\u001b[1mIn[34]:12\u001b[22m\n",
      "  Test threw exception\n",
      "  Expression: isempty(reversibility_parameter_dictionary) == false\n",
      "  MethodError: no method matching iterate(::Nothing)\n",
      "  The function `iterate` exists, but no method is defined for this combination of argument types.\n",
      "  \n",
      "  \u001b[0mClosest candidates are:\n",
      "  \u001b[0m  iterate(\u001b[91m::MathOptInterface.Bridges.Objective.EmptyMap\u001b[39m)\n",
      "  \u001b[0m\u001b[90m   @\u001b[39m \u001b[36mMathOptInterface\u001b[39m \u001b[90m~/.julia/packages/MathOptInterface/jN9gE/src/Bridges/Objective/\u001b[39m\u001b[90m\u001b[4mmap.jl:110\u001b[24m\u001b[39m\n",
      "  \u001b[0m  iterate(\u001b[91m::Base.Iterators.ProductIterator{Tuple{}}\u001b[39m)\n",
      "  \u001b[0m\u001b[90m   @\u001b[39m \u001b[90mBase\u001b[39m \u001b[90m\u001b[4miterators.jl:1128\u001b[24m\u001b[39m\n",
      "  \u001b[0m  iterate(\u001b[91m::Base.Iterators.ProductIterator{Tuple{}}\u001b[39m, \u001b[91m::Any\u001b[39m)\n",
      "  \u001b[0m\u001b[90m   @\u001b[39m \u001b[90mBase\u001b[39m \u001b[90m\u001b[4miterators.jl:1129\u001b[24m\u001b[39m\n",
      "  \u001b[0m  ...\n",
      "  \n",
      "  Stacktrace:\n",
      "   [1] \u001b[0m\u001b[1misempty\u001b[22m\u001b[0m\u001b[1m(\u001b[22m\u001b[90mitr\u001b[39m::\u001b[0mNothing\u001b[0m\u001b[1m)\u001b[22m\n",
      "  \u001b[90m   @\u001b[39m \u001b[90mBase\u001b[39m \u001b[90m./\u001b[39m\u001b[90m\u001b[4messentials.jl:1121\u001b[24m\u001b[39m\n",
      "   [2] \u001b[0m\u001b[1mmacro expansion\u001b[22m\n",
      "  \u001b[90m   @\u001b[39m \u001b[90m~/.julia/juliaup/julia-1.11.3+0.aarch64.apple.darwin14/share/julia/stdlib/v1.11/Test/src/\u001b[39m\u001b[90m\u001b[4mTest.jl:676\u001b[24m\u001b[39m\u001b[90m [inlined]\u001b[39m\n",
      "   [3] \u001b[0m\u001b[1mmacro expansion\u001b[22m\n",
      "  \u001b[90m   @\u001b[39m \u001b[90m\u001b[4mIn[34]:12\u001b[24m\u001b[39m\u001b[90m [inlined]\u001b[39m\n",
      "   [4] \u001b[0m\u001b[1mmacro expansion\u001b[22m\n",
      "  \u001b[90m   @\u001b[39m \u001b[90m~/.julia/juliaup/julia-1.11.3+0.aarch64.apple.darwin14/share/julia/stdlib/v1.11/Test/src/\u001b[39m\u001b[90m\u001b[4mTest.jl:1704\u001b[24m\u001b[39m\u001b[90m [inlined]\u001b[39m\n",
      "   [5] \u001b[0m\u001b[1mmacro expansion\u001b[22m\n",
      "  \u001b[90m   @\u001b[39m \u001b[90m\u001b[4mIn[34]:5\u001b[24m\u001b[39m\u001b[90m [inlined]\u001b[39m\n",
      "   [6] \u001b[0m\u001b[1mmacro expansion\u001b[22m\n",
      "  \u001b[90m   @\u001b[39m \u001b[90m~/.julia/juliaup/julia-1.11.3+0.aarch64.apple.darwin14/share/julia/stdlib/v1.11/Test/src/\u001b[39m\u001b[90m\u001b[4mTest.jl:1704\u001b[24m\u001b[39m\u001b[90m [inlined]\u001b[39m\n",
      "   [7] top-level scope\n",
      "  \u001b[90m   @\u001b[39m \u001b[90m\u001b[4mIn[34]:4\u001b[24m\u001b[39m\n",
      "Setup: \u001b[91m\u001b[1mError During Test\u001b[22m\u001b[39m at \u001b[39m\u001b[1mIn[34]:13\u001b[22m\n",
      "  Test threw exception\n",
      "  Expression: isempty(maximum_reaction_velocity_dictionary) == false\n",
      "  MethodError: no method matching iterate(::Nothing)\n",
      "  The function `iterate` exists, but no method is defined for this combination of argument types.\n",
      "  \n",
      "  \u001b[0mClosest candidates are:\n",
      "  \u001b[0m  iterate(\u001b[91m::MathOptInterface.Bridges.Objective.EmptyMap\u001b[39m)\n",
      "  \u001b[0m\u001b[90m   @\u001b[39m \u001b[36mMathOptInterface\u001b[39m \u001b[90m~/.julia/packages/MathOptInterface/jN9gE/src/Bridges/Objective/\u001b[39m\u001b[90m\u001b[4mmap.jl:110\u001b[24m\u001b[39m\n",
      "  \u001b[0m  iterate(\u001b[91m::Base.Iterators.ProductIterator{Tuple{}}\u001b[39m)\n",
      "  \u001b[0m\u001b[90m   @\u001b[39m \u001b[90mBase\u001b[39m \u001b[90m\u001b[4miterators.jl:1128\u001b[24m\u001b[39m\n",
      "  \u001b[0m  iterate(\u001b[91m::Base.Iterators.ProductIterator{Tuple{}}\u001b[39m, \u001b[91m::Any\u001b[39m)\n",
      "  \u001b[0m\u001b[90m   @\u001b[39m \u001b[90mBase\u001b[39m \u001b[90m\u001b[4miterators.jl:1129\u001b[24m\u001b[39m\n",
      "  \u001b[0m  ...\n",
      "  \n",
      "  Stacktrace:\n",
      "   [1] \u001b[0m\u001b[1misempty\u001b[22m\u001b[0m\u001b[1m(\u001b[22m\u001b[90mitr\u001b[39m::\u001b[0mNothing\u001b[0m\u001b[1m)\u001b[22m\n",
      "  \u001b[90m   @\u001b[39m \u001b[90mBase\u001b[39m \u001b[90m./\u001b[39m\u001b[90m\u001b[4messentials.jl:1121\u001b[24m\u001b[39m\n",
      "   [2] \u001b[0m\u001b[1mmacro expansion\u001b[22m\n",
      "  \u001b[90m   @\u001b[39m \u001b[90m~/.julia/juliaup/julia-1.11.3+0.aarch64.apple.darwin14/share/julia/stdlib/v1.11/Test/src/\u001b[39m\u001b[90m\u001b[4mTest.jl:676\u001b[24m\u001b[39m\u001b[90m [inlined]\u001b[39m\n",
      "   [3] \u001b[0m\u001b[1mmacro expansion\u001b[22m\n",
      "  \u001b[90m   @\u001b[39m \u001b[90m\u001b[4mIn[34]:13\u001b[24m\u001b[39m\u001b[90m [inlined]\u001b[39m\n",
      "   [4] \u001b[0m\u001b[1mmacro expansion\u001b[22m\n",
      "  \u001b[90m   @\u001b[39m \u001b[90m~/.julia/juliaup/julia-1.11.3+0.aarch64.apple.darwin14/share/julia/stdlib/v1.11/Test/src/\u001b[39m\u001b[90m\u001b[4mTest.jl:1704\u001b[24m\u001b[39m\u001b[90m [inlined]\u001b[39m\n",
      "   [5] \u001b[0m\u001b[1mmacro expansion\u001b[22m\n",
      "  \u001b[90m   @\u001b[39m \u001b[90m\u001b[4mIn[34]:5\u001b[24m\u001b[39m\u001b[90m [inlined]\u001b[39m\n",
      "   [6] \u001b[0m\u001b[1mmacro expansion\u001b[22m\n",
      "  \u001b[90m   @\u001b[39m \u001b[90m~/.julia/juliaup/julia-1.11.3+0.aarch64.apple.darwin14/share/julia/stdlib/v1.11/Test/src/\u001b[39m\u001b[90m\u001b[4mTest.jl:1704\u001b[24m\u001b[39m\u001b[90m [inlined]\u001b[39m\n",
      "   [7] top-level scope\n",
      "  \u001b[90m   @\u001b[39m \u001b[90m\u001b[4mIn[34]:4\u001b[24m\u001b[39m\n",
      "Setup: \u001b[91m\u001b[1mTest Failed\u001b[22m\u001b[39m at \u001b[39m\u001b[1mIn[34]:14\u001b[22m\n",
      "  Expression: did_I_update_the_DG_array == true\n",
      "   Evaluated: false == true\n",
      "\n",
      "Stacktrace:\n",
      " [1] \u001b[0m\u001b[1mmacro expansion\u001b[22m\n",
      "\u001b[90m   @\u001b[39m \u001b[90m~/.julia/juliaup/julia-1.11.3+0.aarch64.apple.darwin14/share/julia/stdlib/v1.11/Test/src/\u001b[39m\u001b[90m\u001b[4mTest.jl:679\u001b[24m\u001b[39m\u001b[90m [inlined]\u001b[39m\n",
      " [2] \u001b[0m\u001b[1mmacro expansion\u001b[22m\n",
      "\u001b[90m   @\u001b[39m \u001b[90m\u001b[4mIn[34]:14\u001b[24m\u001b[39m\u001b[90m [inlined]\u001b[39m\n",
      " [3] \u001b[0m\u001b[1mmacro expansion\u001b[22m\n",
      "\u001b[90m   @\u001b[39m \u001b[90m~/.julia/juliaup/julia-1.11.3+0.aarch64.apple.darwin14/share/julia/stdlib/v1.11/Test/src/\u001b[39m\u001b[90m\u001b[4mTest.jl:1704\u001b[24m\u001b[39m\u001b[90m [inlined]\u001b[39m\n",
      " [4] \u001b[0m\u001b[1mmacro expansion\u001b[22m\n",
      "\u001b[90m   @\u001b[39m \u001b[90m\u001b[4mIn[34]:5\u001b[24m\u001b[39m\u001b[90m [inlined]\u001b[39m\n",
      " [5] \u001b[0m\u001b[1mmacro expansion\u001b[22m\n",
      "\u001b[90m   @\u001b[39m \u001b[90m~/.julia/juliaup/julia-1.11.3+0.aarch64.apple.darwin14/share/julia/stdlib/v1.11/Test/src/\u001b[39m\u001b[90m\u001b[4mTest.jl:1704\u001b[24m\u001b[39m\u001b[90m [inlined]\u001b[39m\n",
      " [6] top-level scope\n",
      "\u001b[90m   @\u001b[39m \u001b[90m\u001b[4mIn[34]:4\u001b[24m\u001b[39m\n",
      "Setup: \u001b[91m\u001b[1mTest Failed\u001b[22m\u001b[39m at \u001b[39m\u001b[1mIn[34]:15\u001b[22m\n",
      "  Expression: did_I_update_the_kcat_array == true\n",
      "   Evaluated: false == true\n",
      "\n",
      "Stacktrace:\n",
      " [1] \u001b[0m\u001b[1mmacro expansion\u001b[22m\n",
      "\u001b[90m   @\u001b[39m \u001b[90m~/.julia/juliaup/julia-1.11.3+0.aarch64.apple.darwin14/share/julia/stdlib/v1.11/Test/src/\u001b[39m\u001b[90m\u001b[4mTest.jl:679\u001b[24m\u001b[39m\u001b[90m [inlined]\u001b[39m\n",
      " [2] \u001b[0m\u001b[1mmacro expansion\u001b[22m\n",
      "\u001b[90m   @\u001b[39m \u001b[90m\u001b[4mIn[34]:15\u001b[24m\u001b[39m\u001b[90m [inlined]\u001b[39m\n",
      " [3] \u001b[0m\u001b[1mmacro expansion\u001b[22m\n",
      "\u001b[90m   @\u001b[39m \u001b[90m~/.julia/juliaup/julia-1.11.3+0.aarch64.apple.darwin14/share/julia/stdlib/v1.11/Test/src/\u001b[39m\u001b[90m\u001b[4mTest.jl:1704\u001b[24m\u001b[39m\u001b[90m [inlined]\u001b[39m\n",
      " [4] \u001b[0m\u001b[1mmacro expansion\u001b[22m\n",
      "\u001b[90m   @\u001b[39m \u001b[90m\u001b[4mIn[34]:5\u001b[24m\u001b[39m\u001b[90m [inlined]\u001b[39m\n",
      " [5] \u001b[0m\u001b[1mmacro expansion\u001b[22m\n",
      "\u001b[90m   @\u001b[39m \u001b[90m~/.julia/juliaup/julia-1.11.3+0.aarch64.apple.darwin14/share/julia/stdlib/v1.11/Test/src/\u001b[39m\u001b[90m\u001b[4mTest.jl:1704\u001b[24m\u001b[39m\u001b[90m [inlined]\u001b[39m\n",
      " [6] top-level scope\n",
      "\u001b[90m   @\u001b[39m \u001b[90m\u001b[4mIn[34]:4\u001b[24m\u001b[39m\n",
      "Calculation: \u001b[91m\u001b[1mTest Failed\u001b[22m\u001b[39m at \u001b[39m\u001b[1mIn[34]:20\u001b[22m\n",
      "  Expression: do_I_see_the_flux_table == true\n",
      "   Evaluated: false == true\n",
      "\n",
      "Stacktrace:\n",
      " [1] \u001b[0m\u001b[1mmacro expansion\u001b[22m\n",
      "\u001b[90m   @\u001b[39m \u001b[90m~/.julia/juliaup/julia-1.11.3+0.aarch64.apple.darwin14/share/julia/stdlib/v1.11/Test/src/\u001b[39m\u001b[90m\u001b[4mTest.jl:679\u001b[24m\u001b[39m\u001b[90m [inlined]\u001b[39m\n",
      " [2] \u001b[0m\u001b[1mmacro expansion\u001b[22m\n",
      "\u001b[90m   @\u001b[39m \u001b[90m\u001b[4mIn[34]:20\u001b[24m\u001b[39m\u001b[90m [inlined]\u001b[39m\n",
      " [3] \u001b[0m\u001b[1mmacro expansion\u001b[22m\n",
      "\u001b[90m   @\u001b[39m \u001b[90m~/.julia/juliaup/julia-1.11.3+0.aarch64.apple.darwin14/share/julia/stdlib/v1.11/Test/src/\u001b[39m\u001b[90m\u001b[4mTest.jl:1704\u001b[24m\u001b[39m\u001b[90m [inlined]\u001b[39m\n",
      " [4] \u001b[0m\u001b[1mmacro expansion\u001b[22m\n",
      "\u001b[90m   @\u001b[39m \u001b[90m\u001b[4mIn[34]:19\u001b[24m\u001b[39m\u001b[90m [inlined]\u001b[39m\n",
      " [5] \u001b[0m\u001b[1mmacro expansion\u001b[22m\n",
      "\u001b[90m   @\u001b[39m \u001b[90m~/.julia/juliaup/julia-1.11.3+0.aarch64.apple.darwin14/share/julia/stdlib/v1.11/Test/src/\u001b[39m\u001b[90m\u001b[4mTest.jl:1704\u001b[24m\u001b[39m\u001b[90m [inlined]\u001b[39m\n",
      " [6] top-level scope\n",
      "\u001b[90m   @\u001b[39m \u001b[90m\u001b[4mIn[34]:4\u001b[24m\u001b[39m\n",
      "Discussion questions: \u001b[91m\u001b[1mTest Failed\u001b[22m\u001b[39m at \u001b[39m\u001b[1mIn[34]:24\u001b[22m\n",
      "  Expression: did_I_answer_DQ1 == true\n",
      "   Evaluated: false == true\n",
      "\n",
      "Stacktrace:\n",
      " [1] \u001b[0m\u001b[1mmacro expansion\u001b[22m\n",
      "\u001b[90m   @\u001b[39m \u001b[90m~/.julia/juliaup/julia-1.11.3+0.aarch64.apple.darwin14/share/julia/stdlib/v1.11/Test/src/\u001b[39m\u001b[90m\u001b[4mTest.jl:679\u001b[24m\u001b[39m\u001b[90m [inlined]\u001b[39m\n",
      " [2] \u001b[0m\u001b[1mmacro expansion\u001b[22m\n",
      "\u001b[90m   @\u001b[39m \u001b[90m\u001b[4mIn[34]:24\u001b[24m\u001b[39m\u001b[90m [inlined]\u001b[39m\n",
      " [3] \u001b[0m\u001b[1mmacro expansion\u001b[22m\n",
      "\u001b[90m   @\u001b[39m \u001b[90m~/.julia/juliaup/julia-1.11.3+0.aarch64.apple.darwin14/share/julia/stdlib/v1.11/Test/src/\u001b[39m\u001b[90m\u001b[4mTest.jl:1704\u001b[24m\u001b[39m\u001b[90m [inlined]\u001b[39m\n",
      " [4] \u001b[0m\u001b[1mmacro expansion\u001b[22m\n",
      "\u001b[90m   @\u001b[39m \u001b[90m\u001b[4mIn[34]:24\u001b[24m\u001b[39m\u001b[90m [inlined]\u001b[39m\n",
      " [5] \u001b[0m\u001b[1mmacro expansion\u001b[22m\n",
      "\u001b[90m   @\u001b[39m \u001b[90m~/.julia/juliaup/julia-1.11.3+0.aarch64.apple.darwin14/share/julia/stdlib/v1.11/Test/src/\u001b[39m\u001b[90m\u001b[4mTest.jl:1704\u001b[24m\u001b[39m\u001b[90m [inlined]\u001b[39m\n",
      " [6] top-level scope\n",
      "\u001b[90m   @\u001b[39m \u001b[90m\u001b[4mIn[34]:4\u001b[24m\u001b[39m\n",
      "Discussion questions: \u001b[91m\u001b[1mTest Failed\u001b[22m\u001b[39m at \u001b[39m\u001b[1mIn[34]:25\u001b[22m\n",
      "  Expression: did_I_answer_DQ2 == true\n",
      "   Evaluated: false == true\n",
      "\n",
      "Stacktrace:\n",
      " [1] \u001b[0m\u001b[1mmacro expansion\u001b[22m\n",
      "\u001b[90m   @\u001b[39m \u001b[90m~/.julia/juliaup/julia-1.11.3+0.aarch64.apple.darwin14/share/julia/stdlib/v1.11/Test/src/\u001b[39m\u001b[90m\u001b[4mTest.jl:679\u001b[24m\u001b[39m\u001b[90m [inlined]\u001b[39m\n",
      " [2] \u001b[0m\u001b[1mmacro expansion\u001b[22m\n",
      "\u001b[90m   @\u001b[39m \u001b[90m\u001b[4mIn[34]:25\u001b[24m\u001b[39m\u001b[90m [inlined]\u001b[39m\n",
      " [3] \u001b[0m\u001b[1mmacro expansion\u001b[22m\n",
      "\u001b[90m   @\u001b[39m \u001b[90m~/.julia/juliaup/julia-1.11.3+0.aarch64.apple.darwin14/share/julia/stdlib/v1.11/Test/src/\u001b[39m\u001b[90m\u001b[4mTest.jl:1704\u001b[24m\u001b[39m\u001b[90m [inlined]\u001b[39m\n",
      " [4] \u001b[0m\u001b[1mmacro expansion\u001b[22m\n",
      "\u001b[90m   @\u001b[39m \u001b[90m\u001b[4mIn[34]:24\u001b[24m\u001b[39m\u001b[90m [inlined]\u001b[39m\n",
      " [5] \u001b[0m\u001b[1mmacro expansion\u001b[22m\n",
      "\u001b[90m   @\u001b[39m \u001b[90m~/.julia/juliaup/julia-1.11.3+0.aarch64.apple.darwin14/share/julia/stdlib/v1.11/Test/src/\u001b[39m\u001b[90m\u001b[4mTest.jl:1704\u001b[24m\u001b[39m\u001b[90m [inlined]\u001b[39m\n",
      " [6] top-level scope\n",
      "\u001b[90m   @\u001b[39m \u001b[90m\u001b[4mIn[34]:4\u001b[24m\u001b[39m\n",
      "Discussion questions: \u001b[91m\u001b[1mTest Failed\u001b[22m\u001b[39m at \u001b[39m\u001b[1mIn[34]:26\u001b[22m\n",
      "  Expression: did_I_answer_DQ3 == true\n",
      "   Evaluated: false == true\n",
      "\n",
      "Stacktrace:\n",
      " [1] \u001b[0m\u001b[1mmacro expansion\u001b[22m\n",
      "\u001b[90m   @\u001b[39m \u001b[90m~/.julia/juliaup/julia-1.11.3+0.aarch64.apple.darwin14/share/julia/stdlib/v1.11/Test/src/\u001b[39m\u001b[90m\u001b[4mTest.jl:679\u001b[24m\u001b[39m\u001b[90m [inlined]\u001b[39m\n",
      " [2] \u001b[0m\u001b[1mmacro expansion\u001b[22m\n",
      "\u001b[90m   @\u001b[39m \u001b[90m\u001b[4mIn[34]:26\u001b[24m\u001b[39m\u001b[90m [inlined]\u001b[39m\n",
      " [3] \u001b[0m\u001b[1mmacro expansion\u001b[22m\n",
      "\u001b[90m   @\u001b[39m \u001b[90m~/.julia/juliaup/julia-1.11.3+0.aarch64.apple.darwin14/share/julia/stdlib/v1.11/Test/src/\u001b[39m\u001b[90m\u001b[4mTest.jl:1704\u001b[24m\u001b[39m\u001b[90m [inlined]\u001b[39m\n",
      " [4] \u001b[0m\u001b[1mmacro expansion\u001b[22m\n",
      "\u001b[90m   @\u001b[39m \u001b[90m\u001b[4mIn[34]:24\u001b[24m\u001b[39m\u001b[90m [inlined]\u001b[39m\n",
      " [5] \u001b[0m\u001b[1mmacro expansion\u001b[22m\n",
      "\u001b[90m   @\u001b[39m \u001b[90m~/.julia/juliaup/julia-1.11.3+0.aarch64.apple.darwin14/share/julia/stdlib/v1.11/Test/src/\u001b[39m\u001b[90m\u001b[4mTest.jl:1704\u001b[24m\u001b[39m\u001b[90m [inlined]\u001b[39m\n",
      " [6] top-level scope\n",
      "\u001b[90m   @\u001b[39m \u001b[90m\u001b[4mIn[34]:4\u001b[24m\u001b[39m\n",
      "\u001b[0m\u001b[1mTest Summary:                       | \u001b[22m\u001b[32m\u001b[1mPass  \u001b[22m\u001b[39m\u001b[91m\u001b[1mFail  \u001b[22m\u001b[39m\u001b[91m\u001b[1mError  \u001b[22m\u001b[39m\u001b[36m\u001b[1mTotal  \u001b[22m\u001b[39m\u001b[0m\u001b[1mTime\u001b[22m\n",
      "CHEME 5450 problem set 2 test suite | \u001b[32m   5  \u001b[39m\u001b[91m   8  \u001b[39m\u001b[91m    2  \u001b[39m\u001b[36m   15  \u001b[39m\u001b[0m1.4s\n",
      "  Setup                             | \u001b[32m   4  \u001b[39m\u001b[91m   4  \u001b[39m\u001b[91m    2  \u001b[39m\u001b[36m   10  \u001b[39m\u001b[0m1.3s\n",
      "  Calculation                       | \u001b[32m   1  \u001b[39m\u001b[91m   1  \u001b[39m\u001b[91m       \u001b[39m\u001b[36m    2  \u001b[39m\u001b[0m0.0s\n",
      "  Discussion questions              | \u001b[32m      \u001b[39m\u001b[91m   3  \u001b[39m\u001b[91m       \u001b[39m\u001b[36m    3  \u001b[39m\u001b[0m0.0s\n"
     ]
    },
    {
     "ename": "LoadError",
     "evalue": "\u001b[91mSome tests did not pass: 5 passed, 8 failed, 2 errored, 0 broken.\u001b[39m",
     "output_type": "error",
     "traceback": [
      "\u001b[91mSome tests did not pass: 5 passed, 8 failed, 2 errored, 0 broken.\u001b[39m",
      "",
      "Stacktrace:",
      " [1] finish(ts::Test.DefaultTestSet; print_results::Bool)",
      "   @ Test ~/.julia/juliaup/julia-1.11.3+0.aarch64.apple.darwin14/share/julia/stdlib/v1.11/Test/src/Test.jl:1258",
      " [2] finish(ts::Test.DefaultTestSet)",
      "   @ Test ~/.julia/juliaup/julia-1.11.3+0.aarch64.apple.darwin14/share/julia/stdlib/v1.11/Test/src/Test.jl:1233",
      " [3] macro expansion",
      "   @ ~/.julia/juliaup/julia-1.11.3+0.aarch64.apple.darwin14/share/julia/stdlib/v1.11/Test/src/Test.jl:1720 [inlined]",
      " [4] top-level scope",
      "   @ In[34]:4"
     ]
    }
   ],
   "source": [
    "let\n",
    "    @testset verbose = true \"CHEME 5450 problem set 2 test suite\" begin\n",
    "        \n",
    "        @testset \"Setup\" begin\n",
    "            @test _DID_INCLUDE_FILE_GET_CALLED == true\n",
    "            @test isnothing(model) == false\n",
    "            @test isnothing(rd) == false\n",
    "            @test isnothing(reversibility_parameter_dictionary) == false\n",
    "            @test isnothing(maximum_reaction_velocity_dictionary) == false\n",
    "            @test isnothing(solution) == false\n",
    "\n",
    "            @test isempty(reversibility_parameter_dictionary) == false\n",
    "            @test isempty(maximum_reaction_velocity_dictionary) == false\n",
    "            @test did_I_update_the_DG_array == true\n",
    "            @test did_I_update_the_kcat_array == true\n",
    "        end\n",
    "\n",
    "        @testset \"Calculation\" begin\n",
    "            @test isempty(solution) == false\n",
    "            @test do_I_see_the_flux_table == true\n",
    "        end\n",
    "        \n",
    "       @testset \"Discussion questions\" begin\n",
    "            @test did_I_answer_DQ1 == true\n",
    "            @test did_I_answer_DQ2 == true\n",
    "            @test did_I_answer_DQ3 == true\n",
    "        end\n",
    "    end\n",
    "end;"
   ]
  },
  {
   "cell_type": "code",
   "execution_count": null,
   "id": "96721fc7-3d75-4a72-b69f-c7423fc74f41",
   "metadata": {},
   "outputs": [],
   "source": []
  }
 ],
 "metadata": {
  "kernelspec": {
   "display_name": "Julia 1.11.3",
   "language": "julia",
   "name": "julia-1.11"
  },
  "language_info": {
   "file_extension": ".jl",
   "mimetype": "application/julia",
   "name": "julia",
   "version": "1.11.3"
  }
 },
 "nbformat": 4,
 "nbformat_minor": 5
}
